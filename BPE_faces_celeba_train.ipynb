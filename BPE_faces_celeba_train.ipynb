{
 "cells": [
  {
   "cell_type": "markdown",
   "id": "6ad2462c-3abf-4db7-a042-7552ebcf34b9",
   "metadata": {},
   "source": [
    "# Bytes"
   ]
  },
  {
   "cell_type": "code",
   "id": "8fc31313-fcad-43fa-8f29-da89aa6cad89",
   "metadata": {
    "ExecuteTime": {
     "end_time": "2024-08-22T01:21:58.960799Z",
     "start_time": "2024-08-22T01:21:58.955982Z"
    }
   },
   "source": [
    "print(1)"
   ],
   "outputs": [
    {
     "name": "stdout",
     "output_type": "stream",
     "text": [
      "1\n"
     ]
    }
   ],
   "execution_count": 1
  },
  {
   "cell_type": "code",
   "id": "5e867679-7f69-49cb-b28d-2b1f0bc6cf6c",
   "metadata": {
    "ExecuteTime": {
     "end_time": "2024-08-22T01:21:59.699140Z",
     "start_time": "2024-08-22T01:21:59.643255Z"
    }
   },
   "source": [
    "import numpy as np\n",
    "mapping = {}\n",
    "for i in range(1000):\n",
    "    i_str = f'{i:03}'\n",
    "    mapping[i_str] = i\n",
    "mapping[\"010\"] = 20\n",
    "mapping[\"101\"] = 102\n",
    "    \n",
    "def pixel_to_char(pixel):\n",
    "    pixel = np.array(pixel) // 26\n",
    "    pixel = \"\".join([str(x) for x in pixel])\n",
    "    pixel_value = mapping[pixel]\n",
    "    pixel_char = chr(pixel_value)\n",
    "    return pixel_char"
   ],
   "outputs": [],
   "execution_count": 2
  },
  {
   "cell_type": "code",
   "id": "08aff871-d9d3-4dc2-899c-6fa5d4ff2b01",
   "metadata": {
    "ExecuteTime": {
     "end_time": "2024-08-22T01:22:01.899173Z",
     "start_time": "2024-08-22T01:22:01.888329Z"
    }
   },
   "source": [
    "pixel_to_char([255,255,255])"
   ],
   "outputs": [
    {
     "data": {
      "text/plain": [
       "'ϧ'"
      ]
     },
     "execution_count": 3,
     "metadata": {},
     "output_type": "execute_result"
    }
   ],
   "execution_count": 3
  },
  {
   "cell_type": "markdown",
   "id": "e85348e0-abca-4051-8d3b-ea5ba8c59087",
   "metadata": {},
   "source": [
    "# Images"
   ]
  },
  {
   "cell_type": "code",
   "id": "66ac3883-d5c2-4f4d-baca-d2f2c37da412",
   "metadata": {
    "ExecuteTime": {
     "end_time": "2024-08-22T01:22:03.668657Z",
     "start_time": "2024-08-22T01:22:03.665341Z"
    }
   },
   "source": [
    "import glob\n",
    "paths = glob.glob(\"./*.jpg\")"
   ],
   "outputs": [],
   "execution_count": 4
  },
  {
   "cell_type": "code",
   "id": "dc34e027-0a33-47e1-bae5-2c2b47aa635d",
   "metadata": {
    "ExecuteTime": {
     "end_time": "2024-08-22T01:22:05.086546Z",
     "start_time": "2024-08-22T01:22:05.081174Z"
    }
   },
   "source": [
    "len(paths)"
   ],
   "outputs": [
    {
     "data": {
      "text/plain": [
       "3"
      ]
     },
     "execution_count": 5,
     "metadata": {},
     "output_type": "execute_result"
    }
   ],
   "execution_count": 5
  },
  {
   "cell_type": "code",
   "id": "7e471ac3-86f4-457b-abb1-db0307efabe5",
   "metadata": {
    "ExecuteTime": {
     "end_time": "2024-08-22T01:22:06.132651Z",
     "start_time": "2024-08-22T01:22:06.129798Z"
    }
   },
   "source": [
    "print(1)"
   ],
   "outputs": [
    {
     "name": "stdout",
     "output_type": "stream",
     "text": [
      "1\n"
     ]
    }
   ],
   "execution_count": 6
  },
  {
   "cell_type": "code",
   "id": "3443833d-77c3-4772-8970-108446ecdb02",
   "metadata": {
    "ExecuteTime": {
     "end_time": "2024-08-22T01:22:07.155972Z",
     "start_time": "2024-08-22T01:22:07.146451Z"
    }
   },
   "source": [
    "paths[0]"
   ],
   "outputs": [
    {
     "data": {
      "text/plain": [
       "'./2.jpg'"
      ]
     },
     "execution_count": 7,
     "metadata": {},
     "output_type": "execute_result"
    }
   ],
   "execution_count": 7
  },
  {
   "cell_type": "code",
   "id": "0be01092-9f50-45a3-a687-102fe341b8c9",
   "metadata": {
    "ExecuteTime": {
     "end_time": "2024-08-22T01:22:08.737434Z",
     "start_time": "2024-08-22T01:22:08.504236Z"
    }
   },
   "source": [
    "SQUEEZE = 1\n",
    "from PIL import Image\n",
    "import numpy as np\n",
    "im_array = np.array(Image.open(paths[2]))[::SQUEEZE,::SQUEEZE]\n",
    "print(im_array)"
   ],
   "outputs": [
    {
     "name": "stdout",
     "output_type": "stream",
     "text": [
      "[[  0   0   1   1   3   5   3   0   0   0   0   1   1   0   0   1   0   0\n",
      "    4   8   0  17   0   0   0   0   0   0]\n",
      " [  0   2   2   0   0   0   0   0   0   0   0   1   1   1   1   3   0   0\n",
      "    1   0   0   0   9   5   0   0   0   0]\n",
      " [  1   2   3   0   0   0   0   2   6   5   3   1   0   0   0   0   7   2\n",
      "    6  10  17   0   1   0   0   0   0   0]\n",
      " [  3   0   0   2   2   0   1   4   1   3   2   0   0   2   3   1   0   0\n",
      "    0   0   0   0   0  12   0   0   0   0]\n",
      " [  5   0   0   2   5   1   0   0   0   2   2   0   0   1   0   0   5   0\n",
      "   18   0  16   4   0  11   0   0   0   0]\n",
      " [  6   0   0   1   2   0   0   0   0   0   5   6  12  22  24  19 113 158\n",
      "  172  25 151 255 255 120   0   0   0   0]\n",
      " [  3   0   0   2   0   0   1  15  28  56  92 131 177 223 251 255 255 250\n",
      "  211 176 255 245 187  62   0   0   0   0]\n",
      " [  0   0   1   4   0   0  12  37 235 248 255 254 255 255 255 249 250 251\n",
      "  105  84  75  52  46   0   0   0   0   0]\n",
      " [  0   0   0   0   0   2   5   8 214 255 251 238 255 245 210 180 249 247\n",
      "    5   1   0   7   0   4   0   0   0   0]\n",
      " [  0   0   0   0   0   2   4   6  83 149 104 255 255 200   4   0  41 140\n",
      "    3   0   7  10   0  11   0   0   0   0]\n",
      " [  1   0   0   0   0   1   2   4   9  19   0 157 236  94   5   0   0  26\n",
      "    0   2   0   5   0   0   0   0   0   0]\n",
      " [  2   1   0   0   0   0   0   1   0   0  10 139 255 182  22   0  12   0\n",
      "    1   9   0   0  12   0   0   0   0   0]\n",
      " [  1   1   0   0   0   0   0   0   8   0  10   0 185 255  54   0   0   0\n",
      "   20   1   3   0   0   5   0   0   0   0]\n",
      " [  0   0   0   0   0   0   0   0   0   5   0  11  52 246 225 167 108  12\n",
      "    0   0  12   0   0   4   0   0   0   0]\n",
      " [  0   0   0   0   0   0   0   0   3   5  10   0   0  61 255 248 255 108\n",
      "   25   1   0   0   2   0   0   0   0   0]\n",
      " [  0   0   0   0   0   0   0   0   0   3   2   0   8   9  45 181 255 246\n",
      "  150  23   0   3   0   6   0   0   0   0]\n",
      " [  6   2   0   3   0   0   4   0   0   4   4   0   0   0   2  11  92 255\n",
      "  255 177   4   0   5   0   0   0   0   0]\n",
      " [  0   0   0   6   0   0   0   8   9   0   0  11   7   3   8   4   0 255\n",
      "  254 230  73   1   0  13   0   0   0   0]\n",
      " [  6  10   4   0   0  15  10   0   4   8   0   0   2   0  41 131 191 239\n",
      "  252 224   0   5  11   0   0   0   0   0]\n",
      " [  0   0   4   5   3   0   0   8   0   0  12   5  29 140 237 243 253 247\n",
      "  255 182   0   0   0  18   0   0   0   0]\n",
      " [  0   0   6   0   5  14   0   1  12   4  16 108 225 255 245 255 255 209\n",
      "   69   9   4   0   0   0   0   0   0   0]\n",
      " [ 11   5   7   0   0   1   0  17   3  84 198 253 253 255 245 190  72  15\n",
      "    0   0   0   6  17   0   0   0   0   0]\n",
      " [  6   0   0  12  12   0  25 158 231 243 247 255 255 193  83  16   0   0\n",
      "   22   4   6   6   0   4   0   0   0   0]\n",
      " [  0   5   4   0  62 177 214 255 248 252 255 233 130  24   0   0   0   7\n",
      "    0   8   0   0  15   0   0   0   0   0]\n",
      " [  2   0   0  20 125 240 255 246 198 145 118  22  11   0   0   3   0   0\n",
      "    0   0   0   0   0   0   0   0   0   0]\n",
      " [  3  11   7   0   0   9   6   0  13   0  20   0   4   0   1   0   0   0\n",
      "    0   0   0   0   0   0   0   0   0   0]\n",
      " [  0   0   0   4   2   0   0   6   0   0   2   0   1   5   0   0   0   0\n",
      "    0   0   0   0   0   0   0   0   0   0]\n",
      " [ 17   0   0   0   0   0   0   0  13  12   2   3   0   4   0   5   0   0\n",
      "    0   0   0   0   0   0   0   0   0   0]]\n"
     ]
    }
   ],
   "execution_count": 8
  },
  {
   "cell_type": "code",
   "id": "9a82948d-8b09-4abb-9a4d-1091b089c996",
   "metadata": {
    "ExecuteTime": {
     "end_time": "2024-08-22T01:22:10.258666Z",
     "start_time": "2024-08-22T01:22:09.911464Z"
    }
   },
   "source": [
    "import matplotlib.pyplot as plt\n",
    "%matplotlib inline"
   ],
   "outputs": [],
   "execution_count": 9
  },
  {
   "cell_type": "code",
   "id": "aeedf3f5-3ff1-4b3c-b74b-cfea14c889b0",
   "metadata": {
    "ExecuteTime": {
     "end_time": "2024-08-22T01:22:12.061057Z",
     "start_time": "2024-08-22T01:22:11.957036Z"
    }
   },
   "source": [
    "plt.imshow(im_array)"
   ],
   "outputs": [
    {
     "data": {
      "text/plain": [
       "<matplotlib.image.AxesImage at 0x1178b7df0>"
      ]
     },
     "execution_count": 10,
     "metadata": {},
     "output_type": "execute_result"
    },
    {
     "data": {
      "text/plain": [
       "<Figure size 640x480 with 1 Axes>"
      ],
      "image/png": "[encoded data removed]"
     },
     "metadata": {},
     "output_type": "display_data"
    }
   ],
   "execution_count": 10
  },
  {
   "cell_type": "code",
   "id": "caf1f159-8117-4352-9230-b3b842957531",
   "metadata": {
    "ExecuteTime": {
     "end_time": "2024-08-22T01:22:12.768028Z",
     "start_time": "2024-08-22T01:22:12.762552Z"
    }
   },
   "source": [
    "im_array.shape"
   ],
   "outputs": [
    {
     "data": {
      "text/plain": [
       "(28, 28)"
      ]
     },
     "execution_count": 11,
     "metadata": {},
     "output_type": "execute_result"
    }
   ],
   "execution_count": 11
  },
  {
   "cell_type": "code",
   "id": "b1d80d01-c4ab-4590-aee9-2d5d8f13500a",
   "metadata": {
    "ExecuteTime": {
     "end_time": "2024-08-22T01:22:13.822277Z",
     "start_time": "2024-08-22T01:22:13.741095Z"
    }
   },
   "source": [
    "plt.imshow(((im_array // 26) * 26).astype(int))"
   ],
   "outputs": [
    {
     "data": {
      "text/plain": [
       "<matplotlib.image.AxesImage at 0x1051c4dc0>"
      ]
     },
     "execution_count": 12,
     "metadata": {},
     "output_type": "execute_result"
    },
    {
     "data": {
      "text/plain": [
       "<Figure size 640x480 with 1 Axes>"
      ],
      "image/png": "[encoded data removed]"
     },
     "metadata": {},
     "output_type": "display_data"
    }
   ],
   "execution_count": 12
  },
  {
   "cell_type": "code",
   "id": "4fa6e58c-0110-4f64-b591-2a715d7419d9",
   "metadata": {
    "ExecuteTime": {
     "end_time": "2024-08-22T01:22:14.542796Z",
     "start_time": "2024-08-22T01:22:14.529503Z"
    }
   },
   "source": [
    "np.max(im_array // 26)"
   ],
   "outputs": [
    {
     "data": {
      "text/plain": [
       "9"
      ]
     },
     "execution_count": 13,
     "metadata": {},
     "output_type": "execute_result"
    }
   ],
   "execution_count": 13
  },
  {
   "cell_type": "code",
   "id": "11b8cc28-1d69-48cd-a799-4482abe23e65",
   "metadata": {
    "ExecuteTime": {
     "end_time": "2024-08-22T01:22:16.077003Z",
     "start_time": "2024-08-22T01:22:16.072579Z"
    }
   },
   "source": [
    "len(paths)"
   ],
   "outputs": [
    {
     "data": {
      "text/plain": [
       "3"
      ]
     },
     "execution_count": 14,
     "metadata": {},
     "output_type": "execute_result"
    }
   ],
   "execution_count": 14
  },
  {
   "cell_type": "code",
   "id": "2cfb205d-1eac-4ac5-b238-783a3876b4eb",
   "metadata": {
    "ExecuteTime": {
     "end_time": "2024-08-22T01:22:16.930716Z",
     "start_time": "2024-08-22T01:22:16.613215Z"
    }
   },
   "source": [
    "from tqdm import tqdm\n",
    "with open(f\"test{SQUEEZE}.txt\",\"a\") as f:\n",
    "    for i in tqdm(range(len(paths))):\n",
    "        im_array = np.array(Image.open(paths[i]))[::SQUEEZE,::SQUEEZE]\n",
    "        im_list = list(im_array)\n",
    "        for line in im_list:\n",
    "            line = [pixel_to_char(x) for x in line]\n",
    "            f.write(\"\".join(line))\n",
    "            f.write(\"\\n\")\n",
    "        f.write(\"e\")\n",
    "        # break"
   ],
   "outputs": [
    {
     "name": "stderr",
     "output_type": "stream",
     "text": [
      "  0%|          | 0/3 [00:00<?, ?it/s]\n"
     ]
    },
    {
     "ename": "TypeError",
     "evalue": "'numpy.int64' object is not iterable",
     "output_type": "error",
     "traceback": [
      "\u001B[0;31m---------------------------------------------------------------------------\u001B[0m",
      "\u001B[0;31mTypeError\u001B[0m                                 Traceback (most recent call last)",
      "Cell \u001B[0;32mIn[15], line 7\u001B[0m\n\u001B[1;32m      5\u001B[0m im_list \u001B[38;5;241m=\u001B[39m \u001B[38;5;28mlist\u001B[39m(im_array)\n\u001B[1;32m      6\u001B[0m \u001B[38;5;28;01mfor\u001B[39;00m line \u001B[38;5;129;01min\u001B[39;00m im_list:\n\u001B[0;32m----> 7\u001B[0m     line \u001B[38;5;241m=\u001B[39m [pixel_to_char(x) \u001B[38;5;28;01mfor\u001B[39;00m x \u001B[38;5;129;01min\u001B[39;00m line]\n\u001B[1;32m      8\u001B[0m     f\u001B[38;5;241m.\u001B[39mwrite(\u001B[38;5;124m\"\u001B[39m\u001B[38;5;124m\"\u001B[39m\u001B[38;5;241m.\u001B[39mjoin(line))\n\u001B[1;32m      9\u001B[0m     f\u001B[38;5;241m.\u001B[39mwrite(\u001B[38;5;124m\"\u001B[39m\u001B[38;5;130;01m\\n\u001B[39;00m\u001B[38;5;124m\"\u001B[39m)\n",
      "Cell \u001B[0;32mIn[15], line 7\u001B[0m, in \u001B[0;36m<listcomp>\u001B[0;34m(.0)\u001B[0m\n\u001B[1;32m      5\u001B[0m im_list \u001B[38;5;241m=\u001B[39m \u001B[38;5;28mlist\u001B[39m(im_array)\n\u001B[1;32m      6\u001B[0m \u001B[38;5;28;01mfor\u001B[39;00m line \u001B[38;5;129;01min\u001B[39;00m im_list:\n\u001B[0;32m----> 7\u001B[0m     line \u001B[38;5;241m=\u001B[39m [\u001B[43mpixel_to_char\u001B[49m\u001B[43m(\u001B[49m\u001B[43mx\u001B[49m\u001B[43m)\u001B[49m \u001B[38;5;28;01mfor\u001B[39;00m x \u001B[38;5;129;01min\u001B[39;00m line]\n\u001B[1;32m      8\u001B[0m     f\u001B[38;5;241m.\u001B[39mwrite(\u001B[38;5;124m\"\u001B[39m\u001B[38;5;124m\"\u001B[39m\u001B[38;5;241m.\u001B[39mjoin(line))\n\u001B[1;32m      9\u001B[0m     f\u001B[38;5;241m.\u001B[39mwrite(\u001B[38;5;124m\"\u001B[39m\u001B[38;5;130;01m\\n\u001B[39;00m\u001B[38;5;124m\"\u001B[39m)\n",
      "Cell \u001B[0;32mIn[2], line 11\u001B[0m, in \u001B[0;36mpixel_to_char\u001B[0;34m(pixel)\u001B[0m\n\u001B[1;32m      9\u001B[0m \u001B[38;5;28;01mdef\u001B[39;00m \u001B[38;5;21mpixel_to_char\u001B[39m(pixel):\n\u001B[1;32m     10\u001B[0m     pixel \u001B[38;5;241m=\u001B[39m np\u001B[38;5;241m.\u001B[39marray(pixel) \u001B[38;5;241m/\u001B[39m\u001B[38;5;241m/\u001B[39m \u001B[38;5;241m26\u001B[39m\n\u001B[0;32m---> 11\u001B[0m     pixel \u001B[38;5;241m=\u001B[39m \u001B[38;5;124m\"\u001B[39m\u001B[38;5;124m\"\u001B[39m\u001B[38;5;241m.\u001B[39mjoin([\u001B[38;5;28mstr\u001B[39m(x) \u001B[38;5;28;01mfor\u001B[39;00m x \u001B[38;5;129;01min\u001B[39;00m pixel])\n\u001B[1;32m     12\u001B[0m     pixel_value \u001B[38;5;241m=\u001B[39m mapping[pixel]\n\u001B[1;32m     13\u001B[0m     pixel_char \u001B[38;5;241m=\u001B[39m \u001B[38;5;28mchr\u001B[39m(pixel_value)\n",
      "\u001B[0;31mTypeError\u001B[0m: 'numpy.int64' object is not iterable"
     ]
    }
   ],
   "execution_count": 15
  },
  {
   "cell_type": "code",
   "execution_count": null,
   "id": "13b6cd3d-073b-461c-ae96-8580ee87fd59",
   "metadata": {},
   "outputs": [],
   "source": [
    "print(1)"
   ]
  },
  {
   "cell_type": "code",
   "execution_count": null,
   "id": "f2546bbb-f826-49fe-8cf4-ee14f0d2bd79",
   "metadata": {},
   "outputs": [],
   "source": [
    "SQUEEZE = 2\n",
    "VOCAB_SIZE = 30000\n",
    "from tokenizers import ByteLevelBPETokenizer\n",
    "files = [f\"data/faces_color_{SQUEEZE}.txt\"]\n",
    "\n",
    "# Initialize a tokenizer\n",
    "tokenizer = ByteLevelBPETokenizer()\n",
    "\n",
    "# Customize training\n",
    "tokenizer.train(files=files, vocab_size=VOCAB_SIZE)\n",
    "\n",
    "# Save files to disk\n"
   ]
  },
  {
   "cell_type": "code",
   "execution_count": null,
   "id": "42575aaa-6c41-46fa-8eb9-28783509a856",
   "metadata": {},
   "outputs": [],
   "source": [
    "tokenizer.save_model(\".\", f\"tokenizer-faces_color-{SQUEEZE}-{VOCAB_SIZE}\")"
   ]
  },
  {
   "cell_type": "markdown",
   "id": "81984679-84b3-43aa-92ef-93d1494c17a4",
   "metadata": {},
   "source": [
    "# GPT training"
   ]
  },
  {
   "cell_type": "code",
   "execution_count": 2,
   "id": "7d69e12c-27b0-46a5-a005-86909d01aaa9",
   "metadata": {},
   "outputs": [],
   "source": [
    "SQUEEZE = 1\n",
    "VOCAB_SIZE = 30000\n",
    "import torch\n",
    "from transformers import GPT2Tokenizer\n",
    "tokenizer = GPT2Tokenizer(vocab_file = f\"tokenizer-faces_color-{SQUEEZE}-{VOCAB_SIZE}-vocab.json\",\n",
    "                          merges_file = f\"tokenizer-faces_color-{SQUEEZE}-{VOCAB_SIZE}-merges.txt\"\n",
    "                         )"
   ]
  },
  {
   "cell_type": "code",
   "execution_count": 5,
   "id": "201bab34-3227-4f8d-82bc-b1429940c08b",
   "metadata": {},
   "outputs": [
    {
     "data": {
      "text/plain": [
       "30000"
      ]
     },
     "execution_count": 5,
     "metadata": {},
     "output_type": "execute_result"
    }
   ],
   "source": [
    "len(tokenizer.get_vocab())"
   ]
  },
  {
   "cell_type": "code",
   "execution_count": 6,
   "id": "2e8ba5e4-ce3f-40ba-a77a-56c354ef82e2",
   "metadata": {},
   "outputs": [],
   "source": [
    "import torch\n",
    "from transformers import GPT2Tokenizer, GPT2LMHeadModel"
   ]
  },
  {
   "cell_type": "code",
   "execution_count": 12,
   "id": "212906a8-c623-46c8-8a55-9b10f45eee41",
   "metadata": {},
   "outputs": [],
   "source": [
    "eos_id = tokenizer.encode(\"e\")[0]"
   ]
  },
  {
   "cell_type": "code",
   "execution_count": 14,
   "id": "74400b31-9cd8-4bde-a11a-ee5840e0878d",
   "metadata": {},
   "outputs": [],
   "source": [
    "# eos_id = 68\n",
    "eos_id = tokenizer.encode(\"e\")[0]"
   ]
  },
  {
   "cell_type": "code",
   "execution_count": 15,
   "id": "fc383667-63f9-495c-97c2-97f15120a4b0",
   "metadata": {},
   "outputs": [],
   "source": [
    "from transformers import GPT2Model, GPT2Config\n",
    "\n",
    "N_TOKENS = 1024 * 5\n",
    "\n",
    "configuration = GPT2Config(vocab_size = VOCAB_SIZE,\n",
    "                           n_positions = N_TOKENS,\n",
    "                           n_embd = 1024,\n",
    "                           n_layer = 8,\n",
    "                           n_head = 4,\n",
    "                           n_inner = None,\n",
    "                           activation_function = 'gelu_new',\n",
    "                           resid_pdrop = 0., #0.1,\n",
    "                           embd_pdrop = 0.,\n",
    "                           attn_pdrop = 0.,\n",
    "                           layer_norm_epsilon = 1e-05,\n",
    "                           initializer_range = 0.02,\n",
    "                           summary_type = 'cls_index',\n",
    "                           summary_use_proj = True,\n",
    "                           summary_activation = None,\n",
    "                           summary_proj_to_labels = True,\n",
    "                           summary_first_dropout = 0.,\n",
    "                           scale_attn_weights = True,\n",
    "                           use_cache = True,\n",
    "                           bos_token_id = eos_id,\n",
    "                           eos_token_id = eos_id,\n",
    "                           scale_attn_by_inverse_layer_idx = True,\n",
    "                           reorder_and_upcast_attn = False)\n",
    "\n",
    "# Initializing a model from the configuration\n",
    "model = GPT2LMHeadModel(configuration)"
   ]
  },
  {
   "cell_type": "code",
   "execution_count": 18,
   "id": "5a69c38b-c8be-4114-9dcb-da2b27af3b2a",
   "metadata": {},
   "outputs": [
    {
     "name": "stderr",
     "output_type": "stream",
     "text": [
      "/home/jovyan/.imgenv-razzhigaev2-0/lib/python3.7/site-packages/transformers/data/datasets/language_modeling.py:58: FutureWarning: This dataset will be removed from the library soon, preprocessing should be handled with the 🤗 Datasets library. You can have a look at this example script for pointers: https://github.com/huggingface/transformers/blob/master/examples/pytorch/language-modeling/run_mlm.py\n",
      "  FutureWarning,\n"
     ]
    }
   ],
   "source": [
    "from transformers import TextDataset, DataCollatorForLanguageModeling\n",
    "\n",
    "args = {\n",
    "    \"epochs\": 500,\n",
    "    \"bs\": 1 * 2,\n",
    "    # \"warmup\": 100,\n",
    "    \"grad_accum\": 128,\n",
    "    \"tokens\": N_TOKENS,\n",
    "    \"training\": True,\n",
    "    \"lr\": 1e-4,\n",
    "    \"wd\": 1e-3,\n",
    "    \n",
    "}\n",
    "\n",
    "# Сохраним обучающие данные в .txt файл \n",
    "train_path = f\"data/faces_color_{SQUEEZE}.txt\"\n",
    "# train_path = f'data/faces_short.txt'\n",
    "\n",
    "# Создание датасета\n",
    "train_dataset = TextDataset(\n",
    "    tokenizer=tokenizer, \n",
    "    file_path=train_path, \n",
    "    block_size=args[\"tokens\"]\n",
    ")\n",
    "\n",
    "# Создание даталодера (нарезает текст на оптимальные по длине куски)\n",
    "data_collator = DataCollatorForLanguageModeling(tokenizer=tokenizer, mlm=False)\n",
    "\n",
    "model.training = args[\"training\"]"
   ]
  },
  {
   "cell_type": "code",
   "execution_count": 21,
   "id": "d8f2333e-c6b6-4f27-a980-2d8a5002fd2b",
   "metadata": {},
   "outputs": [
    {
     "name": "stderr",
     "output_type": "stream",
     "text": [
      "comet_ml is installed but `COMET_API_KEY` is not set.\n"
     ]
    }
   ],
   "source": [
    "import torch\n",
    "\n",
    "from transformers import Trainer, TrainingArguments"
   ]
  },
  {
   "cell_type": "code",
   "execution_count": 164,
   "id": "8297d2a1-b8b7-4824-9933-cd9716cdce43",
   "metadata": {},
   "outputs": [],
   "source": [
    "model = torch.nn.DataParallel(model, device_ids=[0, 1, 2, 3,  4, 5, 6, 7])"
   ]
  },
  {
   "cell_type": "code",
   "execution_count": 23,
   "id": "c16a6f00-9087-49bd-9cab-ab8bd7932d7f",
   "metadata": {},
   "outputs": [
    {
     "data": {
      "text/plain": [
       "113788"
      ]
     },
     "execution_count": 23,
     "metadata": {},
     "output_type": "execute_result"
    }
   ],
   "source": [
    "len(train_dataset)"
   ]
  },
  {
   "cell_type": "code",
   "execution_count": 25,
   "id": "ee010faa-f432-40b3-8950-053f7e6da338",
   "metadata": {},
   "outputs": [
    {
     "name": "stderr",
     "output_type": "stream",
     "text": [
      "/home/user/conda/lib/python3.7/site-packages/tensorboard/compat/tensorflow_stub/dtypes.py:572: DeprecationWarning: `np.object` is a deprecated alias for the builtin `object`. To silence this warning, use `object` by itself. Doing this will not modify any behavior and is safe. \n",
      "Deprecated in NumPy 1.20; for more details and guidance: https://numpy.org/devdocs/release/1.20.0-notes.html#deprecations\n",
      "  (np.object, string),\n",
      "/home/user/conda/lib/python3.7/site-packages/tensorboard/compat/tensorflow_stub/dtypes.py:573: DeprecationWarning: `np.bool` is a deprecated alias for the builtin `bool`. To silence this warning, use `bool` by itself. Doing this will not modify any behavior and is safe. If you specifically wanted the numpy scalar type, use `np.bool_` here.\n",
      "Deprecated in NumPy 1.20; for more details and guidance: https://numpy.org/devdocs/release/1.20.0-notes.html#deprecations\n",
      "  (np.bool, bool),\n",
      "/home/user/conda/lib/python3.7/site-packages/tensorboard/util/tensor_util.py:113: DeprecationWarning: `np.object` is a deprecated alias for the builtin `object`. To silence this warning, use `object` by itself. Doing this will not modify any behavior and is safe. \n",
      "Deprecated in NumPy 1.20; for more details and guidance: https://numpy.org/devdocs/release/1.20.0-notes.html#deprecations\n",
      "  np.object: SlowAppendObjectArrayToTensorProto,\n",
      "/home/user/conda/lib/python3.7/site-packages/tensorboard/util/tensor_util.py:114: DeprecationWarning: `np.bool` is a deprecated alias for the builtin `bool`. To silence this warning, use `bool` by itself. Doing this will not modify any behavior and is safe. If you specifically wanted the numpy scalar type, use `np.bool_` here.\n",
      "Deprecated in NumPy 1.20; for more details and guidance: https://numpy.org/devdocs/release/1.20.0-notes.html#deprecations\n",
      "  np.bool: SlowAppendBoolArrayToTensorProto,\n"
     ]
    }
   ],
   "source": [
    "training_args = TrainingArguments(\n",
    "    do_train=True,\n",
    "    do_eval=False,\n",
    "    output_dir=\"./finetuned\", #The output directory\n",
    "    overwrite_output_dir=True, #overwrite the content of the output directory\n",
    "    num_train_epochs=args[\"epochs\"], # number of training epochs\n",
    "    per_device_train_batch_size=args[\"bs\"], # batch size for training\n",
    "    # per_device_eval_batch_size=1,  # batch size for evaluation\n",
    "    # warmup_steps=args[\"warmup\"],# number of warmup steps for learning rate scheduler\n",
    "    # gradient_accumulation_steps=args[\"grad_accum\"], # to make \"virtual\" batch size larger\n",
    "    # label_smoothing_factor=0.1,\n",
    "    # deepspeed=True,\n",
    "    dataloader_num_workers=20,\n",
    "    fp16 = False,\n",
    "    logging_steps = 50,\n",
    "    learning_rate = args[\"lr\"],\n",
    "    weight_decay = args[\"wd\"],\n",
    "    save_steps = 5000,\n",
    "    # label_smoothing_factor = 1e-2\n",
    "    )\n",
    "\n",
    "trainer = Trainer(\n",
    "    model=model,\n",
    "    args=training_args,\n",
    "    data_collator=data_collator,\n",
    "    train_dataset=train_dataset,\n",
    "    # is_model_parallel = True\n",
    "    # optimizers = (torch.optim.AdamW(model.parameters(),lr=args[\"lr\"]),None) # Optimizer and lr scheduler\n",
    ")"
   ]
  },
  {
   "cell_type": "code",
   "execution_count": null,
   "id": "aeb8b5c6-f732-4051-806e-2de95c6eb85c",
   "metadata": {},
   "outputs": [
    {
     "name": "stderr",
     "output_type": "stream",
     "text": [
      "***** Running training *****\n",
      "  Num examples = 113788\n",
      "  Num Epochs = 500\n",
      "  Instantaneous batch size per device = 2\n",
      "  Total train batch size (w. parallel, distributed & accumulation) = 16\n",
      "  Gradient Accumulation steps = 1\n",
      "  Total optimization steps = 3556000\n"
     ]
    },
    {
     "data": {
      "text/html": [
       "\n",
       "    <div>\n",
       "      \n",
       "      <progress value='614' max='3556000' style='width:300px; height:20px; vertical-align: middle;'></progress>\n",
       "      [    614/3556000 04:36 < 446:26:45, 2.21 it/s, Epoch 0.09/500]\n",
       "    </div>\n",
       "    <table border=\"1\" class=\"dataframe\">\n",
       "  <thead>\n",
       "    <tr style=\"text-align: left;\">\n",
       "      <th>Step</th>\n",
       "      <th>Training Loss</th>\n",
       "    </tr>\n",
       "  </thead>\n",
       "  <tbody>\n",
       "    <tr>\n",
       "      <td>50</td>\n",
       "      <td>2.715700</td>\n",
       "    </tr>\n",
       "    <tr>\n",
       "      <td>100</td>\n",
       "      <td>2.724700</td>\n",
       "    </tr>\n",
       "    <tr>\n",
       "      <td>150</td>\n",
       "      <td>2.726300</td>\n",
       "    </tr>\n",
       "    <tr>\n",
       "      <td>200</td>\n",
       "      <td>2.724300</td>\n",
       "    </tr>\n",
       "    <tr>\n",
       "      <td>250</td>\n",
       "      <td>2.718500</td>\n",
       "    </tr>\n",
       "    <tr>\n",
       "      <td>300</td>\n",
       "      <td>2.726100</td>\n",
       "    </tr>\n",
       "    <tr>\n",
       "      <td>350</td>\n",
       "      <td>2.725100</td>\n",
       "    </tr>\n",
       "    <tr>\n",
       "      <td>400</td>\n",
       "      <td>2.734100</td>\n",
       "    </tr>\n",
       "    <tr>\n",
       "      <td>450</td>\n",
       "      <td>2.719500</td>\n",
       "    </tr>\n",
       "    <tr>\n",
       "      <td>500</td>\n",
       "      <td>2.719800</td>\n",
       "    </tr>\n",
       "    <tr>\n",
       "      <td>550</td>\n",
       "      <td>2.719600</td>\n",
       "    </tr>\n",
       "    <tr>\n",
       "      <td>600</td>\n",
       "      <td>2.727100</td>\n",
       "    </tr>\n",
       "  </tbody>\n",
       "</table><p>"
      ],
      "text/plain": [
       "<IPython.core.display.HTML object>"
      ]
     },
     "metadata": {},
     "output_type": "display_data"
    }
   ],
   "source": [
    "TOKENIZERS_PARALLELISM = \"true\"\n",
    "trainer.train()"
   ]
  },
  {
   "cell_type": "markdown",
   "id": "8a8b6ed9-215b-4cc5-8cda-c8324732e7e1",
   "metadata": {},
   "source": [
    "# Generate"
   ]
  },
  {
   "cell_type": "code",
   "execution_count": null,
   "id": "205ad015-8d69-4096-ad67-eb3451d846cd",
   "metadata": {},
   "outputs": [],
   "source": [
    "model = model.module"
   ]
  },
  {
   "cell_type": "code",
   "execution_count": 131,
   "id": "2b6b4166-4deb-4e26-92f1-479303ad31c6",
   "metadata": {},
   "outputs": [],
   "source": [
    "import numpy as np\n",
    "mapping = {}\n",
    "for i in range(1000):\n",
    "    i_str = f'{i:03}'\n",
    "    mapping[i_str] = i\n",
    "mapping[\"010\"] = 20\n",
    "mapping[\"101\"] = 102\n",
    "\n",
    "inverse_mapping = {mapping[key]: key for key in list(mapping.keys())}\n",
    "\n",
    "def char_to_pixel(char):\n",
    "    char_value = ord(char)\n",
    "    pixel_value = inverse_mapping[char_value]\n",
    "    pixel = [int(s) for s in pixel_value]\n",
    "    return pixel"
   ]
  },
  {
   "cell_type": "code",
   "execution_count": 161,
   "id": "486dc45a-9abb-4f8e-826d-8048b1ca6ca8",
   "metadata": {},
   "outputs": [
    {
     "name": "stderr",
     "output_type": "stream",
     "text": [
      "Setting `pad_token_id` to `eos_token_id`:68 for open-end generation.\n"
     ]
    }
   ],
   "source": [
    "device = model.device\n",
    "model.train()\n",
    "input_ids = torch.tensor([[eos_id]]).to(device)\n",
    "with torch.no_grad():\n",
    "    out = model.generate(input_ids, \n",
    "                            do_sample=True,\n",
    "                            # top_k=50,\n",
    "                            # top_p=0.95,\n",
    "                            temperature= 2.9,\n",
    "                            max_length=N_TOKENS,\n",
    "                            # max_new_tokens=1024,\n",
    "                            early_stopping=True,\n",
    "                            num_beams = 50,\n",
    "                            # num_beam_groups=30,\n",
    "                            # repetition_penalty=3.,\n",
    "    #                         remove_invalid_values=True,\n",
    "                            # eos_token_id=0,\n",
    "                            # pad_token_id=0,\n",
    "                            # forced_eos_token_id=0,\n",
    "                            use_cache=True,\n",
    "                            # no_repeat_ngram_size = 9,\n",
    "                            # length_penalty=0.8,\n",
    "                            )"
   ]
  },
  {
   "cell_type": "code",
   "execution_count": 162,
   "id": "059f3592-e8f5-4621-b32e-1cde02288dc9",
   "metadata": {},
   "outputs": [],
   "source": [
    "generated_text = tokenizer.decode(out[0])\n",
    "# print(generated_text)"
   ]
  },
  {
   "cell_type": "code",
   "execution_count": 163,
   "id": "62578a8d-4c7c-4e5f-9de3-67b8829965c9",
   "metadata": {},
   "outputs": [
    {
     "name": "stdout",
     "output_type": "stream",
     "text": [
      "(3, 114, 111)\n"
     ]
    },
    {
     "data": {
      "text/plain": [
       "<matplotlib.image.AxesImage at 0x7fce31239a10>"
      ]
     },
     "execution_count": 163,
     "metadata": {},
     "output_type": "execute_result"
    },
    {
     "data": {
      "image/png": "[encoded data removed]",
      "text/plain": [
       "<Figure size 432x288 with 1 Axes>"
      ]
     },
     "metadata": {
      "needs_background": "light"
     },
     "output_type": "display_data"
    }
   ],
   "source": [
    "import numpy as np\n",
    "lines = generated_text[1:-1].split(\"\\n\")\n",
    "dim = round(np.mean([len(l) for l in lines]))\n",
    "\n",
    "import torch\n",
    "import torch.nn as nn\n",
    "\n",
    "def upsample(x, dim):\n",
    "    x = torch.FloatTensor(x)[None,None,None]\n",
    "    \n",
    "    x = (nn.Upsample(size=(1,dim))(x).squeeze() * 26)\n",
    "    # print(x.shape)\n",
    "    return list(x.numpy().astype(int))\n",
    "\n",
    "image_array = []\n",
    "for line in lines:\n",
    "    if len(line) > 2:\n",
    "        line = [char_to_pixel(x)[0] for x in line]\n",
    "        line = upsample(line, dim)\n",
    "        image_array.append(line)\n",
    "r = image_array[:]\n",
    "\n",
    "image_array = []\n",
    "for line in lines:\n",
    "    if len(line) > 2:\n",
    "        line = [char_to_pixel(x)[1] for x in line]\n",
    "        line = upsample(line, dim)\n",
    "        image_array.append(line)\n",
    "g = image_array[:]\n",
    "\n",
    "image_array = []\n",
    "for line in lines:\n",
    "    if len(line) > 2:\n",
    "        line = [char_to_pixel(x)[2] for x in line]\n",
    "        line = upsample(line, dim)\n",
    "        image_array.append(line)\n",
    "b = image_array[:]\n",
    "\n",
    "img = np.array([r,g,b])\n",
    "print(img.shape)\n",
    "        \n",
    "import matplotlib.pyplot as plt\n",
    "%matplotlib inline\n",
    "plt.imshow(np.transpose(img,(1,2,0)), cmap=\"gray\")"
   ]
  }
 ],
 "metadata": {
  "kernelspec": {
   "display_name": "Python 3 (ipykernel)",
   "language": "python",
   "name": "python3"
  },
  "language_info": {
   "codemirror_mode": {
    "name": "ipython",
    "version": 3
   },
   "file_extension": ".py",
   "mimetype": "text/x-python",
   "name": "python",
   "nbconvert_exporter": "python",
   "pygments_lexer": "ipython3",
   "version": "3.7.12"
  }
 },
 "nbformat": 4,
 "nbformat_minor": 5
}
